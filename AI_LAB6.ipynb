{
  "nbformat": 4,
  "nbformat_minor": 0,
  "metadata": {
    "colab": {
      "provenance": []
    },
    "kernelspec": {
      "name": "python3",
      "display_name": "Python 3"
    },
    "language_info": {
      "name": "python"
    }
  },
  "cells": [
    {
      "cell_type": "code",
      "execution_count": 4,
      "metadata": {
        "colab": {
          "base_uri": "https://localhost:8080/"
        },
        "id": "BpiPEltFUIAi",
        "outputId": "4838fe32-51e7-4607-bf71-a60c66a974fb"
      },
      "outputs": [
        {
          "output_type": "stream",
          "name": "stdout",
          "text": [
            "Akanksha Singa\n",
            "USN: 1BM22CS027\n",
            "The query 'C ' is entailed by the knowledge base.\n",
            "The query 'C implies A' is not entailed by the knowledge base.\n",
            "The query 'B implies C' is entailed by the knowledge base.\n"
          ]
        }
      ],
      "source": [
        "print(\"Akanksha Singa\")\n",
        "print(\"USN: 1BM22CS027\")\n",
        "import itertools\n",
        "\n",
        "# Define propositions A, B, and C as variables in the knowledge base\n",
        "def knowledge_base_1(A, B, C):\n",
        "    # C implies A:  ¬C ∨ A\n",
        "    return (not B or A)\n",
        "\n",
        "def knowledge_base_2(A, B, C):\n",
        "    # B implies C: ¬B ∨ C\n",
        "    return (not A or not B)\n",
        "\n",
        "def knowledge_base_3(A, B, C):\n",
        "    # R: B or C\n",
        "    return B or C\n",
        "\n",
        "def knowledge_base(A,B,C):\n",
        "    return knowledge_base_1(A,B,C) and knowledge_base_2(A,B,C) and knowledge_base_3(A,B,C)\n",
        "\n",
        "# Define the queries\n",
        "def query_1(A, B, C):\n",
        "\n",
        "    return C\n",
        "\n",
        "def query_2(A, B, C):\n",
        "\n",
        "    return not C or A\n",
        "\n",
        "def query_3(A, B, C):\n",
        "\n",
        "    return not B or C\n",
        "\n",
        "# Check entailment for query 1: C implies A\n",
        "def entails_1():\n",
        "    for A, B, C in itertools.product([True, False], repeat=3):\n",
        "        # If KB is true and the query is false in any case, entailment fails\n",
        "        if knowledge_base(A, B, C) and not query_1(A, B, C):\n",
        "            return False\n",
        "    return True\n",
        "\n",
        "# Check entailment for query 2: B implies C\n",
        "def entails_2():\n",
        "    for A, B, C in itertools.product([True, False], repeat=3):\n",
        "        # If KB is true and the query is false in any case, entailment fails\n",
        "        if knowledge_base(A, B, C) and not query_2(A, B, C):\n",
        "            return False\n",
        "    return True\n",
        "\n",
        "# Check entailment for query 3: R (B or C)\n",
        "def entails_3():\n",
        "    for A, B, C in itertools.product([True, False], repeat=3):\n",
        "        # If KB is true and the query is false in any case, entailment fails\n",
        "        if knowledge_base(A, B, C) and not query_3(A, B, C):\n",
        "            return False\n",
        "    return True\n",
        "\n",
        "# Test the entailments\n",
        "if entails_1():\n",
        "    print(\"The query 'C ' is entailed by the knowledge base.\")\n",
        "else:\n",
        "    print(\"The query 'C' is not entailed by the knowledge base.\")\n",
        "\n",
        "if entails_2():\n",
        "    print(\"The query 'C implies A' is entailed by the knowledge base.\")\n",
        "else:\n",
        "    print(\"The query 'C implies A' is not entailed by the knowledge base.\")\n",
        "\n",
        "if entails_3():\n",
        "    print(\"The query 'B implies C' is entailed by the knowledge base.\")\n",
        "else:\n",
        "    print(\"The query 'B implies C' is not entailed by the knowledge base.\")\n",
        "\n",
        "\n"
      ]
    }
  ]
}