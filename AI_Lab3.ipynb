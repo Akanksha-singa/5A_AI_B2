{
  "nbformat": 4,
  "nbformat_minor": 0,
  "metadata": {
    "colab": {
      "provenance": []
    },
    "kernelspec": {
      "name": "python3",
      "display_name": "Python 3"
    },
    "language_info": {
      "name": "python"
    }
  },
  "cells": [
    {
      "cell_type": "code",
      "execution_count": 2,
      "metadata": {
        "colab": {
          "base_uri": "https://localhost:8080/"
        },
        "id": "__MdVwsvgz0A",
        "outputId": "203e3193-62a2-45d3-b701-e3fe731a1e79"
      },
      "outputs": [
        {
          "output_type": "stream",
          "name": "stdout",
          "text": [
            "Akanksha Singa\n",
            "1BM22CS027\n",
            "Solution Found:\n",
            "[2, 8, 3]\n",
            "[1, 6, 4]\n",
            "[7, 0, 5]\n",
            "\n",
            "[2, 8, 3]\n",
            "[1, 0, 4]\n",
            "[7, 6, 5]\n",
            "\n",
            "[2, 0, 3]\n",
            "[1, 8, 4]\n",
            "[7, 6, 5]\n",
            "\n",
            "[0, 2, 3]\n",
            "[1, 8, 4]\n",
            "[7, 6, 5]\n",
            "\n",
            "[1, 2, 3]\n",
            "[0, 8, 4]\n",
            "[7, 6, 5]\n",
            "\n",
            "[1, 2, 3]\n",
            "[8, 0, 4]\n",
            "[7, 6, 5]\n",
            "\n"
          ]
        },
        {
          "output_type": "execute_result",
          "data": {
            "text/plain": [
              "5"
            ]
          },
          "metadata": {},
          "execution_count": 2
        }
      ],
      "source": [
        "print(\"Akanksha Singa\")\n",
        "print(\"1BM22CS027\")\n",
        "def misplaced_tiles(state, goal):\n",
        "    return sum(1 for i in range(3) for j in range(3) if state[i][j] != goal[i][j] and state[i][j] != 0)\n",
        "\n",
        "def get_neighbors(state):\n",
        "    neighbors = []\n",
        "    blank = [(i, j) for i in range(3) for j in range(3) if state[i][j] == 0][0]\n",
        "    possible_moves = [(-1, 0), (1, 0), (0, -1), (0, 1)]\n",
        "    x, y = blank\n",
        "\n",
        "    for dx, dy in possible_moves:\n",
        "        nx, ny = x + dx, y + dy\n",
        "        if 0 <= nx < 3 and 0 <= ny < 3:\n",
        "            new_state = [row[:] for row in state]\n",
        "            new_state[x][y], new_state[nx][ny] = new_state[nx][ny], new_state[x][y]\n",
        "            neighbors.append(new_state)\n",
        "\n",
        "    return neighbors\n",
        "\n",
        "def print_path(path):\n",
        "    for state in path:\n",
        "        for row in state:\n",
        "            print(row)\n",
        "        print()\n",
        "\n",
        "def astar_misplaced(start, goal):\n",
        "    open_list = [(start, 0, [])]\n",
        "    visited = set()\n",
        "\n",
        "    while open_list:\n",
        "        current, g, path = open_list.pop(0)\n",
        "\n",
        "\n",
        "        path = path + [current]\n",
        "\n",
        "        if current == goal:\n",
        "            print(\"Solution Found:\")\n",
        "            print_path(path)\n",
        "            return g\n",
        "\n",
        "        for neighbor in get_neighbors(current):\n",
        "            neighbor_tuple = tuple(map(tuple, neighbor))\n",
        "            if neighbor_tuple not in visited:\n",
        "                visited.add(neighbor_tuple)\n",
        "                h = misplaced_tiles(neighbor, goal)\n",
        "                open_list.append((neighbor, g + 1, path))\n",
        "\n",
        "        open_list.sort(key=lambda x: x[1] + misplaced_tiles(x[0], goal))\n",
        "    return -1\n",
        "\n",
        "start = [[2, 8, 3], [1, 6, 4], [7, 0, 5]]\n",
        "goal = [[1,2,3], [8,0,4], [7,6,5]]\n",
        "astar_misplaced(start, goal)\n"
      ]
    },
    {
      "cell_type": "code",
      "source": [
        "print(\"Akanksha Singa\")\n",
        "print(\"1BM22CS027\")\n",
        "def manhattan_distance(state, goal):\n",
        "    distance = 0\n",
        "    for i in range(3):\n",
        "        for j in range(3):\n",
        "            if state[i][j] != 0:\n",
        "                goal_x, goal_y = [(x, y) for x in range(3) for y in range(3) if goal[x][y] == state[i][j]][0]\n",
        "                distance += abs(i - goal_x) + abs(j - goal_y)\n",
        "    return distance\n",
        "\n",
        "def get_neighbors(state):\n",
        "    neighbors = []\n",
        "    blank = [(i, j) for i in range(3) for j in range(3) if state[i][j] == 0][0]\n",
        "    possible_moves = [(-1, 0), (1, 0), (0, -1), (0, 1)]\n",
        "    x, y = blank\n",
        "\n",
        "    for dx, dy in possible_moves:\n",
        "        nx, ny = x + dx, y + dy\n",
        "        if 0 <= nx < 3 and 0 <= ny < 3:\n",
        "            new_state = [row[:] for row in state]\n",
        "            new_state[x][y], new_state[nx][ny] = new_state[nx][ny], new_state[x][y]\n",
        "            neighbors.append(new_state)\n",
        "\n",
        "    return neighbors\n",
        "\n",
        "def print_path(path):\n",
        "    for state in path:\n",
        "        for row in state:\n",
        "            print(row)\n",
        "        print()\n",
        "\n",
        "def astar_manhattan(start, goal):\n",
        "    open_list = [(start, 0, [])]\n",
        "    visited = set()\n",
        "\n",
        "    while open_list:\n",
        "        current, g, path = open_list.pop(0)\n",
        "\n",
        "        path = path + [current]\n",
        "\n",
        "        if current == goal:\n",
        "            print(\"Solution Found:\")\n",
        "            print_path(path)\n",
        "            return g\n",
        "\n",
        "        for neighbor in get_neighbors(current):\n",
        "            neighbor_tuple = tuple(map(tuple, neighbor))\n",
        "            if neighbor_tuple not in visited:\n",
        "                visited.add(neighbor_tuple)\n",
        "                h = manhattan_distance(neighbor, goal)\n",
        "                open_list.append((neighbor, g + 1, path))\n",
        "\n",
        "        open_list.sort(key=lambda x: x[1] + manhattan_distance(x[0], goal))\n",
        "\n",
        "    return -1\n",
        "\n",
        "start = [[2, 8, 3], [1, 6, 4], [0, 7, 5]]\n",
        "goal = [[1,2,3], [8,0,4], [7,6,5]]\n",
        "astar_manhattan(start, goal)\n"
      ],
      "metadata": {
        "colab": {
          "base_uri": "https://localhost:8080/"
        },
        "id": "9A7u83uNhzSh",
        "outputId": "6ea44035-9461-4b8d-d95a-7b7a3dcfcd3f"
      },
      "execution_count": 3,
      "outputs": [
        {
          "output_type": "stream",
          "name": "stdout",
          "text": [
            "Akanksha Singa\n",
            "1BM22CS027\n",
            "Solution Found:\n",
            "[2, 8, 3]\n",
            "[1, 6, 4]\n",
            "[0, 7, 5]\n",
            "\n",
            "[2, 8, 3]\n",
            "[1, 6, 4]\n",
            "[7, 0, 5]\n",
            "\n",
            "[2, 8, 3]\n",
            "[1, 0, 4]\n",
            "[7, 6, 5]\n",
            "\n",
            "[2, 0, 3]\n",
            "[1, 8, 4]\n",
            "[7, 6, 5]\n",
            "\n",
            "[0, 2, 3]\n",
            "[1, 8, 4]\n",
            "[7, 6, 5]\n",
            "\n",
            "[1, 2, 3]\n",
            "[0, 8, 4]\n",
            "[7, 6, 5]\n",
            "\n",
            "[1, 2, 3]\n",
            "[8, 0, 4]\n",
            "[7, 6, 5]\n",
            "\n"
          ]
        },
        {
          "output_type": "execute_result",
          "data": {
            "text/plain": [
              "6"
            ]
          },
          "metadata": {},
          "execution_count": 3
        }
      ]
    }
  ]
}